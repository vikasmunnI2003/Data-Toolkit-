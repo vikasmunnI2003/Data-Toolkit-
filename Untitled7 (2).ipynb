{
  "nbformat": 4,
  "nbformat_minor": 0,
  "metadata": {
    "colab": {
      "provenance": []
    },
    "kernelspec": {
      "name": "python3",
      "display_name": "Python 3"
    },
    "language_info": {
      "name": "python"
    }
  },
  "cells": [
    {
      "cell_type": "markdown",
      "source": [
        "#Data Toolkit\n"
      ],
      "metadata": {
        "id": "V1i_XFnBacKW"
      }
    },
    {
      "cell_type": "markdown",
      "source": [
        "QUS 1 :-What is NumPy, and why is it widely used in Python\n",
        "ANS NumPy (Numerical Python) is a powerful open-source library in Python used for numerical computing. It provides support for multidimensional arrays, along with a wide range of mathematical, statistical, and linear algebra functions to operate on these arrays efficiently.\n",
        "\n",
        "| Feature                           | Description                                                                                                             |\n",
        "| --------------------------------- | ----------------------------------------------------------------------------------------------------------------------- |\n",
        "| ✅ **High Performance**            | Operations on NumPy arrays are much faster than on native Python lists due to internal optimizations and vectorization. |\n",
        "| ✅ **Multidimensional Arrays**     | Easily create and manipulate arrays of any dimension (1D, 2D, 3D, etc.).                                                |\n",
        "| ✅ **Broadcasting**                | Allows operations on arrays of different shapes without writing loops.                                                  |\n",
        "| ✅ **Memory Efficiency**           | Uses less memory and provides better performance than Python lists.                                                     |\n",
        "| ✅ **Mathematical Functions**      | Includes a large collection of mathematical, statistical, and linear algebra functions.                                 |\n",
        "| ✅ **Interoperability**            | Can interface with C/C++, Fortran, and other Python libraries like Pandas, Matplotlib, and SciPy.                       |\n",
        "| ✅ **Foundation for Data Science** | Essential for scientific computing, data analysis, machine learning, and more.                                          |\n",
        "\n",
        "Use Cases\n",
        "\n",
        "Data preprocessing\n",
        "Scientific simulations\n",
        "Financial modeling\n",
        "Machine learning\n",
        "Image and signal processing\n",
        "\n"
      ],
      "metadata": {
        "id": "g2gAdos9amJT"
      }
    },
    {
      "cell_type": "markdown",
      "source": [
        "QUS 2:- How does broadcasting work in NumPy\n",
        "ANS Broadcasting in NumPy is a powerful feature that allows operations on arrays of different shapes without explicitly reshaping or replicating data.\n",
        "Why Use Broadcasting\n",
        "\n",
        "Faster code (no need for manual loops)\n",
        "Cleaner syntax\n",
        "Less memory usage (no data replication)\n",
        "\n",
        "Broadcasting lets you do math between arrays of different shapes as if they were the same size, by expanding dimensions on-the-fly, only when needed.\n",
        "Let me know if you'd like a visual diagram or animation to explain it!"
      ],
      "metadata": {
        "id": "NLH_U2Jjbo7v"
      }
    },
    {
      "cell_type": "markdown",
      "source": [
        "QUS 3:- What is a Pandas DataFrame\n",
        "ANS :- What is a Pandas DataFrame?\n",
        "A Pandas DataFrame is a two-dimensional, tabular data structure in Python that is part of the Pandas library, widely used in data analysis and data science.\n",
        "\n",
        "| Feature              | Description                                                                          |\n",
        "| -------------------- | ------------------------------------------------------------------------------------ |\n",
        "| **2D structure**     | Like a table with **rows** and **columns** (similar to an Excel sheet or SQL table). |\n",
        "| **Labeled axes**     | Rows and columns both have labels: **row index** and **column names**.               |\n",
        "| **Heterogeneous**    | Each column can hold different data types (e.g., int, float, string).                |\n",
        "| **Size-mutable**     | Can grow or shrink as needed.                                                        |\n",
        "| **Powerful methods** | Comes with built-in methods for filtering, grouping, merging, reshaping, etc.        |\n",
        "\n",
        "| Method                   | Purpose                               |\n",
        "| ------------------------ | ------------------------------------- |\n",
        "| `df.head()`              | View first 5 rows                     |\n",
        "| `df.info()`              | Summary of data types and nulls       |\n",
        "| `df.describe()`          | Summary statistics for numeric cols   |\n",
        "| `df.loc[]` / `df.iloc[]` | Access rows/columns by label or index |\n",
        "| `df.groupby()`           | Group and summarize data              |\n",
        "| `df.drop()`              | Remove rows or columns                |\n",
        "\n",
        "A Pandas DataFrame is a versatile and efficient way to store and manipulate structured data in Python — it's one of the most important tools in any data analyst or data scientist’s toolbox.\n",
        "\n"
      ],
      "metadata": {
        "id": "vLHx5wYqcXNC"
      }
    },
    {
      "cell_type": "markdown",
      "source": [
        "QUS 4 :- Explain the use of the groupby() method in Pandas\n",
        "ANS  What is the groupby() Method in Pandas?\n",
        "The groupby() method in Pandas is used to split the data into groups based on one or more keys (usually columns), and then apply an aggregation or transformation function to each group.\n",
        "It follows the split–apply–combine strategy:\n",
        "\n",
        ":- Split the data into groups\n",
        ":- Apply a function to each group\n",
        ":- Combine the results into a DataFrame\n",
        "\n",
        "| Function            | Description                     |\n",
        "| ------------------- | ------------------------------- |\n",
        "| `.mean()`           | Average value per group         |\n",
        "| `.sum()`            | Total value per group           |\n",
        "| `.count()`          | Count of values per group       |\n",
        "| `.max()` / `.min()` | Maximum / Minimum per group     |\n",
        "| `.agg()`            | Apply multiple custom functions |\n",
        "\n",
        "groupby() is used to perform group-wise analysis or aggregation\n",
        "It's a fundamental tool for data summarization, pivoting, and reporting.\n",
        "Works seamlessly with functions like mean(), sum(), agg(), etc."
      ],
      "metadata": {
        "id": "iqGJxONOdBA9"
      }
    },
    {
      "cell_type": "markdown",
      "source": [
        "QUS 5 :- Why is Seaborn preferred for statistical visualizations\n",
        "ANS Why is Seaborn Preferred for Statistical Visualizations?\n",
        "Seaborn is a high-level Python data visualization library built on top of Matplotlib. It is specifically designed for making statistical graphics easier, more elegant, and more informative.\n",
        "Seaborn is preferred for statistical visualization because it combines power and simplicity — making it easy to generate plots that are not just visually appealing, but also statistically informative."
      ],
      "metadata": {
        "id": "F2qk0MtOd-C2"
      }
    },
    {
      "cell_type": "markdown",
      "source": [
        "QUS 6:- What are the differences between NumPy arrays and Python lists\n",
        "Differences Between NumPy Arrays and Python Lists\n",
        "Both NumPy arrays and Python lists are used to store sequences of data, but they differ significantly in performance, functionality, and memory usage.\n",
        "\n",
        "| Feature                  | NumPy Array          | Python List            |\n",
        "| ------------------------ | -------------------- | ---------------------- |\n",
        "| Speed                    | Faster               | Slower                 |\n",
        "| Data Types               | Homogeneous          | Heterogeneous          |\n",
        "| Memory Efficiency        | Higher               | Lower                  |\n",
        "| Vectorized Operations    | Yes                  | No                     |\n",
        "| Multidimensional Support | Yes                  | Limited (nested lists) |\n",
        "| Use Case                 | Scientific computing | General-purpose list   |\n"
      ],
      "metadata": {
        "id": "bApsSqyZeTKU"
      }
    },
    {
      "cell_type": "markdown",
      "source": [
        "QUS 7 :- What is a heatmap, and when should it be used\n",
        "ANS What is a Heatmap?\n",
        "A heatmap is a data visualization technique that represents values in a matrix or 2D grid using color intensity. The color gradient helps quickly convey how values vary across dimensions.\n",
        "A heatmap is a powerful visual tool to represent numerical data in 2D using colors. It's ideal for spotting patterns, trends, correlations, or anomalies in matrices and tabular data.\n"
      ],
      "metadata": {
        "id": "BPs5EvHdertG"
      }
    },
    {
      "cell_type": "markdown",
      "source": [
        "QUS 8 :-What does the term “vectorized operation” mean in NumPy\n",
        "ANS A vectorized operation in NumPy refers to performing element-wise operations on entire arrays without using explicit Python loops (for/while).\n",
        "| Feature            | Benefit                                        |\n",
        "| ------------------ | ---------------------------------------------- |\n",
        "| 🚀 **Speed**       | Much faster than Python loops (uses C backend) |\n",
        "| 📉 **Less Code**   | Shorter, cleaner syntax                        |\n",
        "| 💡 **Readability** | Closer to mathematical notation                |\n",
        "| 💾 **Efficiency**  | Uses less memory and CPU cycles                |\n",
        "\n",
        "| Operation      | Example Syntax            | Description                     |\n",
        "| -------------- | ------------------------- | ------------------------------- |\n",
        "| Addition       | `a + b`                   | Element-wise addition           |\n",
        "| Multiplication | `a * 2` or `a * b`        | Scalar or element-wise multiply |\n",
        "| Comparison     | `a > 0`                   | Element-wise comparison         |\n",
        "| Math Functions | `np.sin(a)`, `np.sqrt(a)` | Element-wise math operations    |\n",
        "A vectorized operation in NumPy applies a computation across entire arrays at once, making the code faster, more readable, and more efficient than using loops.\n"
      ],
      "metadata": {
        "id": "BQ3CCWTHfyMW"
      }
    },
    {
      "cell_type": "markdown",
      "source": [
        "QUS 9 :-  How does Matplotlib differ from Plotly\n",
        "ANS :- Matplotlib and Plotly are both popular Python libraries for data visualization — but they differ significantly in terms of interactivity, ease of use, output formats, and typical use cases.\n",
        "| Feature                | **Matplotlib**                   | **Plotly**                             |\n",
        "| ---------------------- | -------------------------------- | -------------------------------------- |\n",
        "| 🧱 **Type**            | Static, 2D plotting library      | Interactive, web-based visualization   |\n",
        "| 🖱️ **Interactivity**  | Low (static plots)               | High (hover, zoom, tooltips, sliders)  |\n",
        "| 🌐 **Output**          | PNG, PDF, SVG                    | HTML, web-based (also exportable)      |\n",
        "| 🧪 **Best For**        | Scientific plots, reports        | Dashboards, presentations, web apps    |\n",
        "| 📦 **Installation**    | Lightweight, often pre-installed | Slightly heavier (depends on JS)       |\n",
        "| 🎛️ **Customization**  | Very flexible, but verbose       | Easy interactive features, UI controls |\n",
        "| 💻 **Jupyter Support** | Good                             | Excellent (fully interactive)          |\n",
        "| 💾 **3D & Animation**  | Limited (via `mpl_toolkits`)     | Strong 3D and animation support        |\n",
        "\n",
        "Matplotlib is best for static, publication-quality plots with full control, while Plotly excels at building interactive, web-friendly visualizations with minimal code.\n"
      ],
      "metadata": {
        "id": "h0ZzSVFBgO6K"
      }
    },
    {
      "cell_type": "markdown",
      "source": [
        "QUS 10 :-  What is the significance of hierarchical indexing in Pandas\n",
        "ANS :-Hierarchical indexing (also called MultiIndex) in Pandas allows you to have multiple levels of indexing on a single axis (row or column). This adds depth and flexibility to how data is structured, accessed, and analyzed.\n",
        "\n",
        "| Feature                            | Benefit                                                                 |\n",
        "| ---------------------------------- | ----------------------------------------------------------------------- |\n",
        "| 📚 **Organizes complex data**      | Useful for working with **multi-dimensional** or **panel data**         |\n",
        "| 🧱 **Flexible data slicing**       | Makes it easy to **drill down** or **aggregate** across multiple levels |\n",
        "| 🔄 **Efficient reshaping**         | Enables powerful reshaping with `stack()`, `unstack()`, `pivot_table()` |\n",
        "| 🧮 **Better grouping/aggregation** | Works naturally with `groupby()` results                                |\n",
        "Hierarchical indexing allows you to store and analyze data with multiple dimensions in a structured, intuitive, and scalable way — making complex data manipulation in Pandas much easier."
      ],
      "metadata": {
        "id": "XhqVNiu5g-Q2"
      }
    },
    {
      "cell_type": "markdown",
      "source": [
        "QUS 11 :- What is the role of Seaborn’s pairplot() function)\n",
        "ANS :- The pairplot() function in Seaborn is used to create a grid of scatter plots that shows pairwise relationships between multiple numeric variables in a dataset. It also includes histograms or KDE plots on the diagonal to show individual distributions.\n",
        "\n",
        "| Feature                        | Description                                                   |\n",
        "| ------------------------------ | ------------------------------------------------------------- |\n",
        "| 🔁 **Pairwise plots**          | Shows scatter plots for every pair of numeric features        |\n",
        "| 📈 **Diagonal plots**          | Histograms or KDEs to show feature distributions              |\n",
        "| 🎨 **Hue support**             | Allows coloring by category/class (for classification tasks)  |\n",
        "| 🧩 **Faceting**                | Can be split by columns using `hue`, `vars`, or `corner=True` |\n",
        "| 🧠 **Auto-handles DataFrames** | Works easily with Pandas DataFrames                           |\n",
        "\n",
        "| Parameter     | Purpose                                   |\n",
        "| ------------- | ----------------------------------------- |\n",
        "| `hue`         | Color points by category/class            |\n",
        "| `kind`        | Choose `'scatter'` (default) or `'kde'`   |\n",
        "| `diag_kind`   | `'hist'` or `'kde'` on the diagonal       |\n",
        "| `corner=True` | Show only lower triangle (less cluttered) |\n",
        "| `vars`        | Subset of variables to plot               |\n",
        "\n",
        "Seaborn’s pairplot() is a powerful tool for quickly visualizing pairwise relationships between numerical features, making it a go-to choice for initial data exploration.\n"
      ],
      "metadata": {
        "id": "GSknj3yphf3r"
      }
    },
    {
      "cell_type": "markdown",
      "source": [
        "QUS 12 :-What is the purpose of the describe() function in Pandas\n",
        "ANS  What is the Purpose of the describe() Function in Pandas\n",
        "The describe() function in Pandas provides a quick statistical summary of a DataFrame or Series — helping you understand the distribution and spread of your data.\n",
        " When to Use describe()\n",
        "During exploratory data analysis (EDA)\n",
        "To understand data distribution and spread\n",
        "To detect outliers or missing values\n",
        "To summarize large datasets quickly\n",
        "\n",
        "The describe() function is a fast and essential tool for getting a statistical snapshot of your dataset — especially useful in the early stages of data analysis.\n"
      ],
      "metadata": {
        "id": "u4nT9DD2iIq0"
      }
    },
    {
      "cell_type": "markdown",
      "source": [
        "QUS 13 :- Why is handling missing data important in Pandas\n",
        "ANS Handling missing data is a critical part of data analysis in Pandas because incomplete data can lead to inaccurate, misleading, or failed results in analysis, modeling, and decision-making.\n",
        "\n",
        "| Reason                               | Explanation                                                                |\n",
        "| ------------------------------------ | -------------------------------------------------------------------------- |\n",
        "| 📉 **Affects Accuracy**              | Missing data can skew averages, correlations, and statistical calculations |\n",
        "| ❌ **Errors in Computation**          | Many functions (e.g., mean, sum) may return `NaN` if data is missing       |\n",
        "| 📊 **Incorrect Visualizations**      | Plots may look misleading if missing values aren't addressed               |\n",
        "| 🤖 **Machine Learning Failures**     | Most ML models can't handle `NaN` values directly                          |\n",
        "| 🧹 **Clean Data = Reliable Results** | Data cleaning ensures consistent, reproducible analysis                    |\n",
        "\n",
        "Handling missing data in Pandas is essential for ensuring data quality, analytical accuracy, and model reliability. Ignoring it can lead to faulty conclusions and failed analyses."
      ],
      "metadata": {
        "id": "afcl-QlRiswQ"
      }
    },
    {
      "cell_type": "markdown",
      "source": [
        "QUS 14 :- What are the benefits of using Plotly for data visualization)\n",
        "ANS Plotly is a high-level, open-source graphing library that excels in creating interactive, beautiful, and web-ready visualizations in Python and other languages.\n",
        "\n",
        "| 🔹 Feature                       | 🔸 Benefit                                                          |\n",
        "| -------------------------------- | ------------------------------------------------------------------- |\n",
        "| 🖱 **Interactivity**             | Built-in hover tooltips, zooming, panning, sliders, and dropdowns   |\n",
        "| 🌐 **Web Integration**           | Plots can be embedded in HTML, shared online, or used in dashboards |\n",
        "| 💻 **Jupyter Notebook Support**  | Interactive charts display seamlessly in Jupyter Notebooks          |\n",
        "| 📦 **Dash Integration**          | Works with Dash for building full-featured web apps and dashboards  |\n",
        "| 📈 **Wide Range of Chart Types** | Supports 2D, 3D, time series, maps, animated charts, etc.           |\n",
        "| 🎨 **Professional Aesthetics**   | Clean, publication-quality visuals with minimal code                |\n",
        "| 📁 **Export Options**            | Export to static formats (PNG, JPEG, SVG) or interactive HTML       |\n",
        "| 🔗 **Cross-Language Support**    | Available in Python, R, Julia, and JavaScript                       |\n",
        "\n",
        "| Library    | Interactivity | Web-Friendly | Best For                        |\n",
        "| ---------- | ------------- | ------------ | ------------------------------- |\n",
        "| Matplotlib | ❌ No          | ❌ No         | Static plots, scientific papers |\n",
        "| Seaborn    | ❌ No          | ❌ No         | Statistical plotting            |\n",
        "| **Plotly** | ✅ Yes         | ✅ Yes        | Web apps, EDA, dashboards       |\n",
        "\n",
        " Plotly stands out for creating interactive, visually appealing, and web-compatible plots with ease — making it perfect for modern data visualization and dashboards."
      ],
      "metadata": {
        "id": "pXT5xijPjQ4c"
      }
    },
    {
      "cell_type": "markdown",
      "source": [
        "QUS 15:- How does NumPy handle multidimensional arrays\n",
        "ANS NumPy handles multidimensional arrays using its core data structure: the ndarray (n-dimensional array). This allows you to work efficiently with scalars, vectors (1D), matrices (2D), and tensors (3D+) — all using the same underlying object.\n",
        "\n",
        "NumPy uses the ndarray object to handle multidimensional data in a fast, flexible, and consistent way — enabling high-performance scientific computing and numerical analysis in Python.\n"
      ],
      "metadata": {
        "id": "aFlb0MeRj9Yq"
      }
    },
    {
      "cell_type": "markdown",
      "source": [
        "QUS 16:- What is the role of Bokeh in data visualization\n",
        "ANS Bokeh is a powerful Python library used for creating interactive and web-ready visualizations. It bridges the gap between matplotlib's simplicity and Plotly's interactivity, making it ideal for building dashboards and web applications with complex data.\n",
        "\n",
        "| Feature                     | Description                                                          |\n",
        "| --------------------------- | -------------------------------------------------------------------- |\n",
        "| 🖱️ **Interactivity**       | Includes tooltips, zoom, pan, hover, linked brushing, sliders        |\n",
        "| 🌐 **Web Integration**      | Generates HTML, JavaScript, or standalone files for browser viewing  |\n",
        "| 📦 **High Performance**     | Handles large datasets efficiently via WebGL and optimized rendering |\n",
        "| 🔁 **Streaming Support**    | Can stream and update data in real-time                              |\n",
        "| 🧱 **Custom Dashboards**    | Build rich web dashboards using **Bokeh Server**                     |\n",
        "| 📊 **Wide Range of Charts** | Line, bar, scatter, heatmaps, networks, maps, etc.                   |\n",
        "\n",
        "| Library    | Interactivity | Web-Ready | Server Support          | Best Use Case                 |\n",
        "| ---------- | ------------- | --------- | ----------------------- | ----------------------------- |\n",
        "| **Bokeh**  | ✅ Yes         | ✅ Yes     | ✅ Yes                   | Dashboards, real-time updates |\n",
        "| Matplotlib | ❌ No          | ❌ No      | ❌ No                    | Static plots for reports      |\n",
        "| Plotly     | ✅ Yes         | ✅ Yes     | 🚫 (no built-in server) | Beautiful interactive visuals |\n",
        "| Seaborn    | ❌ No          | ❌ No      | ❌ No                    | Statistical static plots      |\n",
        "\n",
        "Bokeh is best suited for building interactive, web-based visualizations and dashboards — especially when you want full control from Python without writing JavaScript.\n"
      ],
      "metadata": {
        "id": "ky4kkHHWkSHy"
      }
    },
    {
      "cell_type": "markdown",
      "source": [
        "QUS 17 :- Explain the difference between apply() and map() in PandasA\n",
        "ANS   Difference Between apply() and map() in Pandas\n",
        "Both apply() and map() are used to apply functions to data in a Pandas DataFrame or Series, but they have different scopes and use cases.\n",
        "\n",
        "1. map() – For Series Only\n",
        "Works only on Series (1D)\n",
        "Applies a function element-wise\n",
        "Used for simple transformations or substitutions\n",
        "\n",
        "2. apply() – For Series & DataFrames\n",
        "Works on both Series and DataFrames\n",
        "Can apply a function element-wise, row-wise, or column-wise\n",
        "More flexible and powerful\n",
        "\n",
        "| Feature       | `map()`                          | `apply()`                                    |\n",
        "| ------------- | -------------------------------- | -------------------------------------------- |\n",
        "| Applies To    | Series only                      | Series and DataFrame                         |\n",
        "| Function Type | Element-wise                     | Element-, row-, or column-wise               |\n",
        "| Input Types   | Function, dict, Series           | Function only                                |\n",
        "| Use Case      | Value mapping, simple transforms | Complex row/column operations                |\n",
        "| Axis Control  | ❌ No                             | ✅ Yes (`axis=0` for cols, `axis=1` for rows) |\n"
      ],
      "metadata": {
        "id": "1-9JXe0Vk6S8"
      }
    },
    {
      "cell_type": "markdown",
      "source": [
        "QUS 18 :-What are some advanced features of NumPy\n",
        "ANS While NumPy is best known for its fast array operations and broadcasting, it also offers powerful advanced features for high-performance numerical computing. Here are some of the most important:\n",
        "\n",
        "1. Broadcasting\n",
        "Enables operations between arrays of different shapes without explicit looping.\n",
        "2. Vectorized Operations\n",
        "Eliminates the need for Python for loops by operating on entire arrays at once\n",
        "3. Masked Arrays\n",
        "Handle missing or invalid data cleanly using np.ma.\n",
        "4. Memory Mapping (memmap)\n",
        "Enables working with very large arrays stored on disk without loading them entirely into memory\n",
        "5. Advanced Indexing & Slicing\n",
        "Supports slicing with arrays, boolean masks, or multiple dimensions\n",
        "6. Structured Arrays / Record Arrays\n",
        "Store complex data types (e.g., like rows in a database)\n",
        "7. Linear Algebra Module (numpy.linalg)\n",
        "Includes operations like:\n",
        "Matrix multiplication\n",
        "Determinants\n",
        "Eigenvalues/vectors\n",
        "Solving systems of equations\n",
        "8. FFT (Fast Fourier Transform)\n",
        "Used for signal processing or frequency analysis.\n",
        "\n",
        "\n"
      ],
      "metadata": {
        "id": "zqo8cZGIluo5"
      }
    },
    {
      "cell_type": "markdown",
      "source": [
        "QUS 19 :- How does Pandas simplify time series analysis\n",
        "ANS Pandas is one of the most powerful Python libraries for time series data — offering rich tools for parsing, indexing, resampling, and visualizing time-based data\n",
        "| Feature                            | How It Helps                                                           |\n",
        "| ---------------------------------- | ---------------------------------------------------------------------- |\n",
        "| 🗓️ **DateTime Indexing**          | Makes date/time values usable as indices for fast filtering & slicing  |\n",
        "| 📥 **Automatic Date Parsing**      | Converts strings to `datetime` objects easily using `pd.to_datetime()` |\n",
        "| 🔁 **Resampling**                  | Converts data from one frequency to another (e.g., daily → monthly)    |\n",
        "| 📊 **Rolling & Expanding Windows** | Enables moving averages, smoothing, and cumulative calculations        |\n",
        "| 🕵️‍♂️ **Shifting/Lagging**        | Allows time-shifting data for trend/lag analysis                       |\n",
        "| 📌 **Time Zone Handling**          | Built-in time zone conversion and awareness                            |\n",
        "| ⌛ **Period & Timedelta Support**   | Supports durations (`Timedelta`) and recurring time spans (`Period`)   |\n",
        "| 🔍 **Convenient Date Slicing**     | Slice with just strings like `'2023'` or `'2023-01'`                   |\n",
        "\n",
        "| Code  | Description |\n",
        "| ----- | ----------- |\n",
        "| `'D'` | Daily       |\n",
        "| `'W'` | Weekly      |\n",
        "| `'M'` | Month end   |\n",
        "| `'Q'` | Quarter end |\n",
        "| `'A'` | Year end    |\n",
        "| `'H'` | Hourly      |\n",
        "| `'T'` | Minutely    |\n",
        "| `'S'` | Secondly    |\n",
        "\n",
        "Pandas makes time series analysis in Python intuitive and powerful, thanks to smart date handling, indexing, resampling, rolling statistics, and time zone tools — all integrated into one consistent framework.\n"
      ],
      "metadata": {
        "id": "sWjO9JpNmrTK"
      }
    },
    {
      "cell_type": "markdown",
      "source": [
        "QUS 20 :-What is the role of a pivot table in Pandas\n",
        "ANS A pivot table in Pandas is used to summarize, group, and reorganize data in a flexible and readable format — similar to Excel pivot tables.\n",
        "\n",
        "When to Use Pivot Tables\n",
        "To summarize large data sets quickly\n",
        "For multi-dimensional aggregation\n",
        "When analyzing data by categories, time, or departments\n",
        "To unstack or reformat long/tabular data\n",
        "\n",
        "A pivot table in Pandas is a powerful tool for grouped summaries and data restructuring, making it easier to analyze trends, compare categories, and create reports — all with a few lines of code.\n"
      ],
      "metadata": {
        "id": "9CSWg8O2nDKd"
      }
    },
    {
      "cell_type": "markdown",
      "source": [
        "QUS 21:- 7 Why is NumPy’s array slicing faster than Python’s list slicing\n",
        "ANS NumPy’s array slicing is significantly faster than slicing regular Python lists because of how NumPy arrays are stored and processed in memory.\n",
        "\n",
        "1. Contiguous Block of Memory\n",
        "NumPy arrays (ndarray) are stored in contiguous memory blocks (like in C).\n",
        "Python lists store references to objects scattered in memory.\n",
        "This allows NumPy to access and slice memory directly without looping.\n",
        "\n",
        "2. View vs Copy\n",
        "NumPy slicing returns a view of the original data (no copying unless needed).\n",
        "Python list slicing creates a copy every time, which is slower and more memory-intensive.\n",
        "\n",
        "3. Optimized C Backend\n",
        "NumPy is written in C under the hood.\n",
        "Array operations, including slicing, are compiled and optimized for speed.\n",
        "\n",
        "4. Uniform Data Type\n",
        "NumPy arrays are homogeneous (all elements have the same data type).\n",
        "Python lists are heterogeneous, requiring more checks during operations.\n",
        "\n",
        "NumPy slicing is faster than Python list slicing because it uses contiguous memory, returns views instead of copies, and leverages a C-optimized backend with homogeneous data types.\n",
        "\n",
        "\n",
        "\n"
      ],
      "metadata": {
        "id": "d9de0Vgenlub"
      }
    },
    {
      "cell_type": "markdown",
      "source": [
        "QUS 22 :-What are some common use cases for Seaborn\n",
        "ANS Seaborn is a high-level data visualization library built on top of Matplotlib. It simplifies the creation of statistical graphics and is designed for exploratory data analysis (EDA).\n",
        "Here are some common use cases where Seaborn shines:\n",
        "1. Visualizing Distributions\n",
        "Understand the shape, spread, and outliers in data.\n",
        "\n",
        "2. Comparing Categories\n",
        "Analyze how different categories compare.\n",
        "\n",
        "3. Finding Relationships Between Variables\n",
        "Check for correlations, trends, or clusters.\n",
        "\n",
        "4. Multivariate Analysis\n",
        "Analyze multiple variables simultaneously.\n",
        "\n",
        "5. Time Series Visualization\n",
        "Track data over time.\n",
        "\n",
        "6. Exploratory Data Analysis (EDA)\n",
        "Fast overview of the dataset before modeling.\n",
        "Tools like pairplot(), catplot(), and heatmap() are widely used for EDA.\n",
        "\n",
        "7. Visualizing Statistical Estimates\n",
        "Seaborn adds confidence intervals and error bars automatically.\n",
        "\n",
        "\n",
        "\n"
      ],
      "metadata": {
        "id": "7H4Ywrk6oPkn"
      }
    },
    {
      "cell_type": "markdown",
      "source": [
        "#Practical Qus"
      ],
      "metadata": {
        "id": "2iKe-n3BpHKR"
      }
    },
    {
      "cell_type": "markdown",
      "source": [
        "qus 1:-How do you create a 2D NumPy array and calculate the sum of each row\n"
      ],
      "metadata": {
        "id": "V4blzKaCpNIC"
      }
    },
    {
      "cell_type": "code",
      "source": [
        "import numpy as np\n",
        "\n",
        "# Step 1: Create a 2D NumPy array\n",
        "arr = np.array([[1, 2, 3],\n",
        "                [4, 5, 6],\n",
        "                [7, 8, 9]])\n",
        "\n",
        "# Step 2: Calculate the sum of each row\n",
        "row_sums = np.sum(arr, axis=1)\n",
        "\n",
        "print(\"2D Array:\\n\", arr)\n",
        "print(\"Sum of each row:\", row_sums)\n"
      ],
      "metadata": {
        "colab": {
          "base_uri": "https://localhost:8080/"
        },
        "id": "UoIGBY2vpdzS",
        "outputId": "b4f02752-0713-411e-f796-11552e50d4cd"
      },
      "execution_count": 1,
      "outputs": [
        {
          "output_type": "stream",
          "name": "stdout",
          "text": [
            "2D Array:\n",
            " [[1 2 3]\n",
            " [4 5 6]\n",
            " [7 8 9]]\n",
            "Sum of each row: [ 6 15 24]\n"
          ]
        }
      ]
    },
    {
      "cell_type": "markdown",
      "source": [
        "qus 2:- Write a Pandas script to find the mean of a specific column in a DataFrameA\n"
      ],
      "metadata": {
        "id": "VGio_qsopv2O"
      }
    },
    {
      "cell_type": "code",
      "source": [
        "import pandas as pd\n",
        "\n",
        "# Sample DataFrame\n",
        "data = {\n",
        "    'Name': ['Alice', 'Bob', 'Charlie', 'David'],\n",
        "    'Salary': [50000, 60000, 55000, 70000]\n",
        "}\n",
        "\n",
        "df = pd.DataFrame(data)\n",
        "\n",
        "# Calculate the mean of the 'Salary' column\n",
        "mean_salary = df['Salary'].mean()\n",
        "\n",
        "print(\"Mean Salary:\", mean_salary)\n"
      ],
      "metadata": {
        "colab": {
          "base_uri": "https://localhost:8080/"
        },
        "id": "hVzqjxJ6p0dC",
        "outputId": "8a369299-5d4c-4a4c-b761-a15abd3ca02e"
      },
      "execution_count": 2,
      "outputs": [
        {
          "output_type": "stream",
          "name": "stdout",
          "text": [
            "Mean Salary: 58750.0\n"
          ]
        }
      ]
    },
    {
      "cell_type": "markdown",
      "source": [
        "qus 3:- Create a scatter plot using MatplotlibA\n",
        "\n"
      ],
      "metadata": {
        "id": "Tx5v3x6wqHcP"
      }
    },
    {
      "cell_type": "code",
      "source": [
        "import matplotlib.pyplot as plt\n",
        "\n",
        "# Sample data\n",
        "x = [10, 20, 30, 40, 50]\n",
        "y = [3, 7, 2, 9, 5]\n",
        "\n",
        "# Create scatter plot\n",
        "plt.scatter(x, y, color='blue', marker='o')\n",
        "\n",
        "# Add labels and title\n",
        "plt.xlabel('X-axis: Independent Variable')\n",
        "plt.ylabel('Y-axis: Dependent Variable')\n",
        "plt.title('Sample Scatter Plot')\n",
        "\n",
        "# Show the plot\n",
        "plt.grid(True)\n",
        "plt.show()\n"
      ],
      "metadata": {
        "colab": {
          "base_uri": "https://localhost:8080/",
          "height": 472
        },
        "id": "xBC3VpPPqRyY",
        "outputId": "a371a01c-ae24-4b0f-d7ab-18053f99887a"
      },
      "execution_count": 3,
      "outputs": [
        {
          "output_type": "display_data",
          "data": {
            "text/plain": [
              "<Figure size 640x480 with 1 Axes>"
            ],
            "image/png": "[encoded data removed]"
          },
          "metadata": {}
        }
      ]
    },
    {
      "cell_type": "markdown",
      "source": [
        "qus 4:- How do you calculate the correlation matrix using Seaborn and visualize it with a heatmap\n"
      ],
      "metadata": {
        "id": "OPgryzDMqd6s"
      }
    },
    {
      "cell_type": "code",
      "source": [
        "import pandas as pd\n",
        "import seaborn as sns\n",
        "import matplotlib.pyplot as plt\n",
        "\n",
        "# Sample DataFrame\n",
        "data = {\n",
        "    'Math': [85, 90, 78, 92, 88],\n",
        "    'Science': [89, 94, 72, 96, 85],\n",
        "    'English': [78, 82, 80, 86, 75]\n",
        "}\n",
        "df = pd.DataFrame(data)\n",
        "\n",
        "# Step 1: Calculate the correlation matrix\n",
        "corr_matrix = df.corr()\n",
        "\n",
        "# Step 2: Create a heatmap using Seaborn\n",
        "sns.heatmap(corr_matrix, annot=True, cmap='coolwarm', fmt='.2f')\n",
        "\n",
        "# Add title and show plot\n",
        "plt.title('Correlation Matrix Heatmap')\n",
        "plt.show()\n"
      ],
      "metadata": {
        "colab": {
          "base_uri": "https://localhost:8080/",
          "height": 452
        },
        "id": "H5pEQXdNqorG",
        "outputId": "aa123410-9eb3-4a89-932a-5b67fcf3b3b1"
      },
      "execution_count": 4,
      "outputs": [
        {
          "output_type": "display_data",
          "data": {
            "text/plain": [
              "<Figure size 640x480 with 2 Axes>"
            ],
            "image/png": "[encoded data removed]"
          },
          "metadata": {}
        }
      ]
    },
    {
      "cell_type": "markdown",
      "source": [
        "QUS 5:- Generate a bar plot using PlotlyA\n"
      ],
      "metadata": {
        "id": "LyQgotWpq7c4"
      }
    },
    {
      "cell_type": "code",
      "source": [
        "import plotly.express as px\n",
        "\n",
        "# Sample data\n",
        "data = {\n",
        "    'Fruits': ['Apples', 'Bananas', 'Cherries', 'Dates'],\n",
        "    'Sales': [100, 150, 80, 120]\n",
        "}\n",
        "\n",
        "# Create a DataFrame\n",
        "import pandas as pd\n",
        "df = pd.DataFrame(data)\n",
        "\n",
        "# Generate the bar plot\n",
        "fig = px.bar(df, x='Fruits', y='Sales', title='Fruit Sales Bar Chart')\n",
        "\n",
        "# Show the plot\n",
        "fig.show()\n"
      ],
      "metadata": {
        "colab": {
          "base_uri": "https://localhost:8080/",
          "height": 542
        },
        "id": "gi9G1h22rDyL",
        "outputId": "422e838e-9ad9-472a-dddc-3b203c4e0f3e"
      },
      "execution_count": 5,
      "outputs": [
        {
          "output_type": "display_data",
          "data": {
            "text/html": [
              "<html>\n",
              "<head><meta charset=\"utf-8\" /></head>\n",
              "<body>\n",
              "    <div>            <script src=\"https://cdnjs.cloudflare.com/ajax/libs/mathjax/2.7.5/MathJax.js?config=TeX-AMS-MML_SVG\"></script><script type=\"text/javascript\">if (window.MathJax && window.MathJax.Hub && window.MathJax.Hub.Config) {window.MathJax.Hub.Config({SVG: {font: \"STIX-Web\"}});}</script>                <script type=\"text/javascript\">window.PlotlyConfig = {MathJaxConfig: 'local'};</script>\n",
              "        <script charset=\"utf-8\" src=\"https://cdn.plot.ly/plotly-2.35.2.min.js\"></script>                <div id=\"8a330c6b-7793-4b41-a3dc-37aec1f63e24\" class=\"plotly-graph-div\" style=\"height:525px; width:100%;\"></div>            <script type=\"text/javascript\">                                    window.PLOTLYENV=window.PLOTLYENV || {};                                    if (document.getElementById(\"8a330c6b-7793-4b41-a3dc-37aec1f63e24\")) {                    Plotly.newPlot(                        \"8a330c6b-7793-4b41-a3dc-37aec1f63e24\",                        [{\"alignmentgroup\":\"True\",\"hovertemplate\":\"Fruits=%{x}\\u003cbr\\u003eSales=%{y}\\u003cextra\\u003e\\u003c\\u002fextra\\u003e\",\"legendgroup\":\"\",\"marker\":{\"color\":\"#636efa\",\"pattern\":{\"shape\":\"\"}},\"name\":\"\",\"offsetgroup\":\"\",\"orientation\":\"v\",\"showlegend\":false,\"textposition\":\"auto\",\"x\":[\"Apples\",\"Bananas\",\"Cherries\",\"Dates\"],\"xaxis\":\"x\",\"y\":[100,150,80,120],\"yaxis\":\"y\",\"type\":\"bar\"}],                        {\"template\":{\"data\":{\"histogram2dcontour\":[{\"type\":\"histogram2dcontour\",\"colorbar\":{\"outlinewidth\":0,\"ticks\":\"\"},\"colorscale\":[[0.0,\"#0d0887\"],[0.1111111111111111,\"#46039f\"],[0.2222222222222222,\"#7201a8\"],[0.3333333333333333,\"#9c179e\"],[0.4444444444444444,\"#bd3786\"],[0.5555555555555556,\"#d8576b\"],[0.6666666666666666,\"#ed7953\"],[0.7777777777777778,\"#fb9f3a\"],[0.8888888888888888,\"#fdca26\"],[1.0,\"#f0f921\"]]}],\"choropleth\":[{\"type\":\"choropleth\",\"colorbar\":{\"outlinewidth\":0,\"ticks\":\"\"}}],\"histogram2d\":[{\"type\":\"histogram2d\",\"colorbar\":{\"outlinewidth\":0,\"ticks\":\"\"},\"colorscale\":[[0.0,\"#0d0887\"],[0.1111111111111111,\"#46039f\"],[0.2222222222222222,\"#7201a8\"],[0.3333333333333333,\"#9c179e\"],[0.4444444444444444,\"#bd3786\"],[0.5555555555555556,\"#d8576b\"],[0.6666666666666666,\"#ed7953\"],[0.7777777777777778,\"#fb9f3a\"],[0.8888888888888888,\"#fdca26\"],[1.0,\"#f0f921\"]]}],\"heatmap\":[{\"type\":\"heatmap\",\"colorbar\":{\"outlinewidth\":0,\"ticks\":\"\"},\"colorscale\":[[0.0,\"#0d0887\"],[0.1111111111111111,\"#46039f\"],[0.2222222222222222,\"#7201a8\"],[0.3333333333333333,\"#9c179e\"],[0.4444444444444444,\"#bd3786\"],[0.5555555555555556,\"#d8576b\"],[0.6666666666666666,\"#ed7953\"],[0.7777777777777778,\"#fb9f3a\"],[0.8888888888888888,\"#fdca26\"],[1.0,\"#f0f921\"]]}],\"heatmapgl\":[{\"type\":\"heatmapgl\",\"colorbar\":{\"outlinewidth\":0,\"ticks\":\"\"},\"colorscale\":[[0.0,\"#0d0887\"],[0.1111111111111111,\"#46039f\"],[0.2222222222222222,\"#7201a8\"],[0.3333333333333333,\"#9c179e\"],[0.4444444444444444,\"#bd3786\"],[0.5555555555555556,\"#d8576b\"],[0.6666666666666666,\"#ed7953\"],[0.7777777777777778,\"#fb9f3a\"],[0.8888888888888888,\"#fdca26\"],[1.0,\"#f0f921\"]]}],\"contourcarpet\":[{\"type\":\"contourcarpet\",\"colorbar\":{\"outlinewidth\":0,\"ticks\":\"\"}}],\"contour\":[{\"type\":\"contour\",\"colorbar\":{\"outlinewidth\":0,\"ticks\":\"\"},\"colorscale\":[[0.0,\"#0d0887\"],[0.1111111111111111,\"#46039f\"],[0.2222222222222222,\"#7201a8\"],[0.3333333333333333,\"#9c179e\"],[0.4444444444444444,\"#bd3786\"],[0.5555555555555556,\"#d8576b\"],[0.6666666666666666,\"#ed7953\"],[0.7777777777777778,\"#fb9f3a\"],[0.8888888888888888,\"#fdca26\"],[1.0,\"#f0f921\"]]}],\"surface\":[{\"type\":\"surface\",\"colorbar\":{\"outlinewidth\":0,\"ticks\":\"\"},\"colorscale\":[[0.0,\"#0d0887\"],[0.1111111111111111,\"#46039f\"],[0.2222222222222222,\"#7201a8\"],[0.3333333333333333,\"#9c179e\"],[0.4444444444444444,\"#bd3786\"],[0.5555555555555556,\"#d8576b\"],[0.6666666666666666,\"#ed7953\"],[0.7777777777777778,\"#fb9f3a\"],[0.8888888888888888,\"#fdca26\"],[1.0,\"#f0f921\"]]}],\"mesh3d\":[{\"type\":\"mesh3d\",\"colorbar\":{\"outlinewidth\":0,\"ticks\":\"\"}}],\"scatter\":[{\"fillpattern\":{\"fillmode\":\"overlay\",\"size\":10,\"solidity\":0.2},\"type\":\"scatter\"}],\"parcoords\":[{\"type\":\"parcoords\",\"line\":{\"colorbar\":{\"outlinewidth\":0,\"ticks\":\"\"}}}],\"scatterpolargl\":[{\"type\":\"scatterpolargl\",\"marker\":{\"colorbar\":{\"outlinewidth\":0,\"ticks\":\"\"}}}],\"bar\":[{\"error_x\":{\"color\":\"#2a3f5f\"},\"error_y\":{\"color\":\"#2a3f5f\"},\"marker\":{\"line\":{\"color\":\"#E5ECF6\",\"width\":0.5},\"pattern\":{\"fillmode\":\"overlay\",\"size\":10,\"solidity\":0.2}},\"type\":\"bar\"}],\"scattergeo\":[{\"type\":\"scattergeo\",\"marker\":{\"colorbar\":{\"outlinewidth\":0,\"ticks\":\"\"}}}],\"scatterpolar\":[{\"type\":\"scatterpolar\",\"marker\":{\"colorbar\":{\"outlinewidth\":0,\"ticks\":\"\"}}}],\"histogram\":[{\"marker\":{\"pattern\":{\"fillmode\":\"overlay\",\"size\":10,\"solidity\":0.2}},\"type\":\"histogram\"}],\"scattergl\":[{\"type\":\"scattergl\",\"marker\":{\"colorbar\":{\"outlinewidth\":0,\"ticks\":\"\"}}}],\"scatter3d\":[{\"type\":\"scatter3d\",\"line\":{\"colorbar\":{\"outlinewidth\":0,\"ticks\":\"\"}},\"marker\":{\"colorbar\":{\"outlinewidth\":0,\"ticks\":\"\"}}}],\"scattermapbox\":[{\"type\":\"scattermapbox\",\"marker\":{\"colorbar\":{\"outlinewidth\":0,\"ticks\":\"\"}}}],\"scatterternary\":[{\"type\":\"scatterternary\",\"marker\":{\"colorbar\":{\"outlinewidth\":0,\"ticks\":\"\"}}}],\"scattercarpet\":[{\"type\":\"scattercarpet\",\"marker\":{\"colorbar\":{\"outlinewidth\":0,\"ticks\":\"\"}}}],\"carpet\":[{\"aaxis\":{\"endlinecolor\":\"#2a3f5f\",\"gridcolor\":\"white\",\"linecolor\":\"white\",\"minorgridcolor\":\"white\",\"startlinecolor\":\"#2a3f5f\"},\"baxis\":{\"endlinecolor\":\"#2a3f5f\",\"gridcolor\":\"white\",\"linecolor\":\"white\",\"minorgridcolor\":\"white\",\"startlinecolor\":\"#2a3f5f\"},\"type\":\"carpet\"}],\"table\":[{\"cells\":{\"fill\":{\"color\":\"#EBF0F8\"},\"line\":{\"color\":\"white\"}},\"header\":{\"fill\":{\"color\":\"#C8D4E3\"},\"line\":{\"color\":\"white\"}},\"type\":\"table\"}],\"barpolar\":[{\"marker\":{\"line\":{\"color\":\"#E5ECF6\",\"width\":0.5},\"pattern\":{\"fillmode\":\"overlay\",\"size\":10,\"solidity\":0.2}},\"type\":\"barpolar\"}],\"pie\":[{\"automargin\":true,\"type\":\"pie\"}]},\"layout\":{\"autotypenumbers\":\"strict\",\"colorway\":[\"#636efa\",\"#EF553B\",\"#00cc96\",\"#ab63fa\",\"#FFA15A\",\"#19d3f3\",\"#FF6692\",\"#B6E880\",\"#FF97FF\",\"#FECB52\"],\"font\":{\"color\":\"#2a3f5f\"},\"hovermode\":\"closest\",\"hoverlabel\":{\"align\":\"left\"},\"paper_bgcolor\":\"white\",\"plot_bgcolor\":\"#E5ECF6\",\"polar\":{\"bgcolor\":\"#E5ECF6\",\"angularaxis\":{\"gridcolor\":\"white\",\"linecolor\":\"white\",\"ticks\":\"\"},\"radialaxis\":{\"gridcolor\":\"white\",\"linecolor\":\"white\",\"ticks\":\"\"}},\"ternary\":{\"bgcolor\":\"#E5ECF6\",\"aaxis\":{\"gridcolor\":\"white\",\"linecolor\":\"white\",\"ticks\":\"\"},\"baxis\":{\"gridcolor\":\"white\",\"linecolor\":\"white\",\"ticks\":\"\"},\"caxis\":{\"gridcolor\":\"white\",\"linecolor\":\"white\",\"ticks\":\"\"}},\"coloraxis\":{\"colorbar\":{\"outlinewidth\":0,\"ticks\":\"\"}},\"colorscale\":{\"sequential\":[[0.0,\"#0d0887\"],[0.1111111111111111,\"#46039f\"],[0.2222222222222222,\"#7201a8\"],[0.3333333333333333,\"#9c179e\"],[0.4444444444444444,\"#bd3786\"],[0.5555555555555556,\"#d8576b\"],[0.6666666666666666,\"#ed7953\"],[0.7777777777777778,\"#fb9f3a\"],[0.8888888888888888,\"#fdca26\"],[1.0,\"#f0f921\"]],\"sequentialminus\":[[0.0,\"#0d0887\"],[0.1111111111111111,\"#46039f\"],[0.2222222222222222,\"#7201a8\"],[0.3333333333333333,\"#9c179e\"],[0.4444444444444444,\"#bd3786\"],[0.5555555555555556,\"#d8576b\"],[0.6666666666666666,\"#ed7953\"],[0.7777777777777778,\"#fb9f3a\"],[0.8888888888888888,\"#fdca26\"],[1.0,\"#f0f921\"]],\"diverging\":[[0,\"#8e0152\"],[0.1,\"#c51b7d\"],[0.2,\"#de77ae\"],[0.3,\"#f1b6da\"],[0.4,\"#fde0ef\"],[0.5,\"#f7f7f7\"],[0.6,\"#e6f5d0\"],[0.7,\"#b8e186\"],[0.8,\"#7fbc41\"],[0.9,\"#4d9221\"],[1,\"#276419\"]]},\"xaxis\":{\"gridcolor\":\"white\",\"linecolor\":\"white\",\"ticks\":\"\",\"title\":{\"standoff\":15},\"zerolinecolor\":\"white\",\"automargin\":true,\"zerolinewidth\":2},\"yaxis\":{\"gridcolor\":\"white\",\"linecolor\":\"white\",\"ticks\":\"\",\"title\":{\"standoff\":15},\"zerolinecolor\":\"white\",\"automargin\":true,\"zerolinewidth\":2},\"scene\":{\"xaxis\":{\"backgroundcolor\":\"#E5ECF6\",\"gridcolor\":\"white\",\"linecolor\":\"white\",\"showbackground\":true,\"ticks\":\"\",\"zerolinecolor\":\"white\",\"gridwidth\":2},\"yaxis\":{\"backgroundcolor\":\"#E5ECF6\",\"gridcolor\":\"white\",\"linecolor\":\"white\",\"showbackground\":true,\"ticks\":\"\",\"zerolinecolor\":\"white\",\"gridwidth\":2},\"zaxis\":{\"backgroundcolor\":\"#E5ECF6\",\"gridcolor\":\"white\",\"linecolor\":\"white\",\"showbackground\":true,\"ticks\":\"\",\"zerolinecolor\":\"white\",\"gridwidth\":2}},\"shapedefaults\":{\"line\":{\"color\":\"#2a3f5f\"}},\"annotationdefaults\":{\"arrowcolor\":\"#2a3f5f\",\"arrowhead\":0,\"arrowwidth\":1},\"geo\":{\"bgcolor\":\"white\",\"landcolor\":\"#E5ECF6\",\"subunitcolor\":\"white\",\"showland\":true,\"showlakes\":true,\"lakecolor\":\"white\"},\"title\":{\"x\":0.05},\"mapbox\":{\"style\":\"light\"}}},\"xaxis\":{\"anchor\":\"y\",\"domain\":[0.0,1.0],\"title\":{\"text\":\"Fruits\"}},\"yaxis\":{\"anchor\":\"x\",\"domain\":[0.0,1.0],\"title\":{\"text\":\"Sales\"}},\"legend\":{\"tracegroupgap\":0},\"title\":{\"text\":\"Fruit Sales Bar Chart\"},\"barmode\":\"relative\"},                        {\"responsive\": true}                    ).then(function(){\n",
              "                            \n",
              "var gd = document.getElementById('8a330c6b-7793-4b41-a3dc-37aec1f63e24');\n",
              "var x = new MutationObserver(function (mutations, observer) {{\n",
              "        var display = window.getComputedStyle(gd).display;\n",
              "        if (!display || display === 'none') {{\n",
              "            console.log([gd, 'removed!']);\n",
              "            Plotly.purge(gd);\n",
              "            observer.disconnect();\n",
              "        }}\n",
              "}});\n",
              "\n",
              "// Listen for the removal of the full notebook cells\n",
              "var notebookContainer = gd.closest('#notebook-container');\n",
              "if (notebookContainer) {{\n",
              "    x.observe(notebookContainer, {childList: true});\n",
              "}}\n",
              "\n",
              "// Listen for the clearing of the current output cell\n",
              "var outputEl = gd.closest('.output');\n",
              "if (outputEl) {{\n",
              "    x.observe(outputEl, {childList: true});\n",
              "}}\n",
              "\n",
              "                        })                };                            </script>        </div>\n",
              "</body>\n",
              "</html>"
            ]
          },
          "metadata": {}
        }
      ]
    },
    {
      "cell_type": "markdown",
      "source": [
        "QUS 6 :-Create a DataFrame and add a new column based on an existing columnA\n"
      ],
      "metadata": {
        "id": "EMyIO8nVr7cb"
      }
    },
    {
      "cell_type": "code",
      "source": [
        "import pandas as pd\n",
        "\n",
        "# Step 1: Create a DataFrame\n",
        "data = {\n",
        "    'Name': ['Alice', 'Bob', 'Charlie', 'David'],\n",
        "    'Score': [85, 42, 73, 90]\n",
        "}\n",
        "df = pd.DataFrame(data)\n",
        "\n",
        "# Step 2: Add a new column 'Result' based on 'Score'\n",
        "df['Result'] = df['Score'].apply(lambda x: 'Pass' if x >= 50 else 'Fail')\n",
        "\n",
        "# Display the updated DataFrame\n",
        "print(df)\n"
      ],
      "metadata": {
        "colab": {
          "base_uri": "https://localhost:8080/"
        },
        "id": "4eJMj-EfsIqX",
        "outputId": "1e8ab953-7f77-40ce-9f6d-6c2399b6cf6d"
      },
      "execution_count": 6,
      "outputs": [
        {
          "output_type": "stream",
          "name": "stdout",
          "text": [
            "      Name  Score Result\n",
            "0    Alice     85   Pass\n",
            "1      Bob     42   Fail\n",
            "2  Charlie     73   Pass\n",
            "3    David     90   Pass\n"
          ]
        }
      ]
    },
    {
      "cell_type": "markdown",
      "source": [
        "QUS 7:- Write a program to perform element-wise multiplication of two NumPy arraysA\n"
      ],
      "metadata": {
        "id": "HgSsOS0vsLs7"
      }
    },
    {
      "cell_type": "code",
      "source": [
        "import numpy as np\n",
        "\n",
        "# Create two NumPy arrays\n",
        "array1 = np.array([2, 4, 6, 8])\n",
        "array2 = np.array([1, 3, 5, 7])\n",
        "\n",
        "# Element-wise multiplication\n",
        "result = array1 * array2\n",
        "\n",
        "# Display the result\n",
        "print(\"Array 1:\", array1)\n",
        "print(\"Array 2:\", array2)\n",
        "print(\"Element-wise multiplication:\", result)\n"
      ],
      "metadata": {
        "colab": {
          "base_uri": "https://localhost:8080/"
        },
        "id": "ro9bTDuSsWFM",
        "outputId": "e5d5b9b0-79e4-4d1d-a4d8-226a8eb89974"
      },
      "execution_count": 7,
      "outputs": [
        {
          "output_type": "stream",
          "name": "stdout",
          "text": [
            "Array 1: [2 4 6 8]\n",
            "Array 2: [1 3 5 7]\n",
            "Element-wise multiplication: [ 2 12 30 56]\n"
          ]
        }
      ]
    },
    {
      "cell_type": "markdown",
      "source": [
        "QUS 8 :-Create a line plot with multiple lines using MatplotlibA\n"
      ],
      "metadata": {
        "id": "OAZWzIJUsYkC"
      }
    },
    {
      "cell_type": "code",
      "source": [
        "import matplotlib.pyplot as plt\n",
        "\n",
        "# Sample data\n",
        "x = [1, 2, 3, 4, 5]\n",
        "y1 = [2, 4, 6, 8, 10]\n",
        "y2 = [1, 3, 5, 7, 9]\n",
        "y3 = [5, 3, 6, 2, 4]\n",
        "\n",
        "# Create multiple line plots\n",
        "plt.plot(x, y1, label='Line 1', color='blue', marker='o')\n",
        "plt.plot(x, y2, label='Line 2', color='green', marker='s')\n",
        "plt.plot(x, y3, label='Line 3', color='red', marker='^')\n",
        "\n",
        "# Add labels and title\n",
        "plt.xlabel('X-axis')\n",
        "plt.ylabel('Y-axis')\n",
        "plt.title('Multiple Line Plot')\n",
        "plt.legend()\n",
        "\n",
        "# Show the plot\n",
        "plt.grid(True)\n",
        "plt.show()\n"
      ],
      "metadata": {
        "colab": {
          "base_uri": "https://localhost:8080/",
          "height": 472
        },
        "id": "npkkTySLsgXO",
        "outputId": "9ea0c364-6739-4474-816a-097d7d845153"
      },
      "execution_count": 8,
      "outputs": [
        {
          "output_type": "display_data",
          "data": {
            "text/plain": [
              "<Figure size 640x480 with 1 Axes>"
            ],
            "image/png": "[encoded data removed]"
          },
          "metadata": {}
        }
      ]
    },
    {
      "cell_type": "markdown",
      "source": [
        "QUS 9 :- Generate a Pandas DataFrame and filter rows where a column value is greater than a thresholdA\n"
      ],
      "metadata": {
        "id": "MwWIkmspsrTG"
      }
    },
    {
      "cell_type": "code",
      "source": [
        "import pandas as pd\n",
        "\n",
        "# Step 1: Create the DataFrame\n",
        "data = {\n",
        "    'Name': ['Alice', 'Bob', 'Charlie', 'David', 'Eve'],\n",
        "    'Score': [85, 42, 73, 90, 65]\n",
        "}\n",
        "\n",
        "df = pd.DataFrame(data)\n",
        "\n",
        "# Step 2: Filter rows where Score > 70\n",
        "filtered_df = df[df['Score'] > 70]\n",
        "\n",
        "# Display the filtered DataFrame\n",
        "print(filtered_df)\n"
      ],
      "metadata": {
        "colab": {
          "base_uri": "https://localhost:8080/"
        },
        "id": "SmLaIzvLtD_e",
        "outputId": "0d03a98d-97de-4719-f6a8-3f2b4014aeb9"
      },
      "execution_count": 10,
      "outputs": [
        {
          "output_type": "stream",
          "name": "stdout",
          "text": [
            "      Name  Score\n",
            "0    Alice     85\n",
            "2  Charlie     73\n",
            "3    David     90\n"
          ]
        }
      ]
    },
    {
      "cell_type": "markdown",
      "source": [
        "QUS 10 :-Create a histogram using Seaborn to visualize a distributionA\n"
      ],
      "metadata": {
        "id": "rj9g6X7ztFnx"
      }
    },
    {
      "cell_type": "code",
      "source": [
        "import seaborn as sns\n",
        "import matplotlib.pyplot as plt\n",
        "import pandas as pd\n",
        "\n",
        "# Sample data\n",
        "data = {\n",
        "    'Scores': [55, 72, 67, 85, 90, 45, 76, 82, 68, 73, 89, 95, 60, 77]\n",
        "}\n",
        "\n",
        "df = pd.DataFrame(data)\n",
        "\n",
        "# Create the histogram\n",
        "sns.histplot(df['Scores'], bins=8, kde=True, color='skyblue')\n",
        "\n",
        "# Add labels and title\n",
        "plt.xlabel('Scores')\n",
        "plt.ylabel('Frequency')\n",
        "plt.title('Distribution of Scores')\n",
        "\n",
        "# Show the plot\n",
        "plt.show()\n"
      ],
      "metadata": {
        "colab": {
          "base_uri": "https://localhost:8080/",
          "height": 472
        },
        "id": "uaBepA2EtLU9",
        "outputId": "049d227d-d694-4052-ecf7-f0494eb30bea"
      },
      "execution_count": 11,
      "outputs": [
        {
          "output_type": "display_data",
          "data": {
            "text/plain": [
              "<Figure size 640x480 with 1 Axes>"
            ],
            "image/png": "[encoded data removed]"
          },
          "metadata": {}
        }
      ]
    },
    {
      "cell_type": "markdown",
      "source": [
        "QUS 11 :-Perform matrix multiplication using NumPyA\n"
      ],
      "metadata": {
        "id": "I6STZvI8tUAy"
      }
    },
    {
      "cell_type": "code",
      "source": [
        "import numpy as np\n",
        "\n",
        "# Define two matrices\n",
        "A = np.array([[1, 2],\n",
        "              [3, 4]])\n",
        "\n",
        "B = np.array([[5, 6],\n",
        "              [7, 8]])\n",
        "\n",
        "# Perform matrix multiplication\n",
        "result = np.dot(A, B)\n",
        "\n",
        "# Alternatively (recommended for Python 3.5+):\n",
        "# result = A @ B\n",
        "\n",
        "# Display the result\n",
        "print(\"Matrix A:\\n\", A)\n",
        "print(\"Matrix B:\\n\", B)\n",
        "print(\"Matrix Multiplication Result (A x B):\\n\", result)\n"
      ],
      "metadata": {
        "colab": {
          "base_uri": "https://localhost:8080/"
        },
        "id": "kNdkDh5EtZ6V",
        "outputId": "a40b8fa4-4a6e-413d-b7c6-f53051562e09"
      },
      "execution_count": 12,
      "outputs": [
        {
          "output_type": "stream",
          "name": "stdout",
          "text": [
            "Matrix A:\n",
            " [[1 2]\n",
            " [3 4]]\n",
            "Matrix B:\n",
            " [[5 6]\n",
            " [7 8]]\n",
            "Matrix Multiplication Result (A x B):\n",
            " [[19 22]\n",
            " [43 50]]\n"
          ]
        }
      ]
    },
    {
      "cell_type": "markdown",
      "source": [
        "QUS 12 :- Use Pandas to load a CSV file and display its first 5 rowsA\n",
        "\n"
      ],
      "metadata": {
        "id": "ue7zaAV-tidW"
      }
    },
    {
      "cell_type": "code",
      "source": [
        "import pandas as pd\n",
        "\n",
        "# Load the CSV file\n",
        "df = pd.read_csv('your_file.csv')  # Replace with your actual file name/path\n",
        "\n",
        "# Display the first 5 rows\n",
        "print(df.head())\n"
      ],
      "metadata": {
        "colab": {
          "base_uri": "https://localhost:8080/",
          "height": 356
        },
        "id": "wZlcC4Kxt_Hj",
        "outputId": "42b7f294-1b03-4d67-9712-fef3124f70f2"
      },
      "execution_count": 15,
      "outputs": [
        {
          "output_type": "error",
          "ename": "FileNotFoundError",
          "evalue": "[Errno 2] No such file or directory: 'your_file.csv'",
          "traceback": [
            "\u001b[0;31m---------------------------------------------------------------------------\u001b[0m",
            "\u001b[0;31mFileNotFoundError\u001b[0m                         Traceback (most recent call last)",
            "\u001b[0;32m/tmp/ipython-input-15-3268157625.py\u001b[0m in \u001b[0;36m<cell line: 0>\u001b[0;34m()\u001b[0m\n\u001b[1;32m      2\u001b[0m \u001b[0;34m\u001b[0m\u001b[0m\n\u001b[1;32m      3\u001b[0m \u001b[0;31m# Load the CSV file\u001b[0m\u001b[0;34m\u001b[0m\u001b[0;34m\u001b[0m\u001b[0m\n\u001b[0;32m----> 4\u001b[0;31m \u001b[0mdf\u001b[0m \u001b[0;34m=\u001b[0m \u001b[0mpd\u001b[0m\u001b[0;34m.\u001b[0m\u001b[0mread_csv\u001b[0m\u001b[0;34m(\u001b[0m\u001b[0;34m'your_file.csv'\u001b[0m\u001b[0;34m)\u001b[0m  \u001b[0;31m# Replace with your actual file name/path\u001b[0m\u001b[0;34m\u001b[0m\u001b[0;34m\u001b[0m\u001b[0m\n\u001b[0m\u001b[1;32m      5\u001b[0m \u001b[0;34m\u001b[0m\u001b[0m\n\u001b[1;32m      6\u001b[0m \u001b[0;31m# Display the first 5 rows\u001b[0m\u001b[0;34m\u001b[0m\u001b[0;34m\u001b[0m\u001b[0m\n",
            "\u001b[0;32m/usr/local/lib/python3.11/dist-packages/pandas/io/parsers/readers.py\u001b[0m in \u001b[0;36mread_csv\u001b[0;34m(filepath_or_buffer, sep, delimiter, header, names, index_col, usecols, dtype, engine, converters, true_values, false_values, skipinitialspace, skiprows, skipfooter, nrows, na_values, keep_default_na, na_filter, verbose, skip_blank_lines, parse_dates, infer_datetime_format, keep_date_col, date_parser, date_format, dayfirst, cache_dates, iterator, chunksize, compression, thousands, decimal, lineterminator, quotechar, quoting, doublequote, escapechar, comment, encoding, encoding_errors, dialect, on_bad_lines, delim_whitespace, low_memory, memory_map, float_precision, storage_options, dtype_backend)\u001b[0m\n\u001b[1;32m   1024\u001b[0m     \u001b[0mkwds\u001b[0m\u001b[0;34m.\u001b[0m\u001b[0mupdate\u001b[0m\u001b[0;34m(\u001b[0m\u001b[0mkwds_defaults\u001b[0m\u001b[0;34m)\u001b[0m\u001b[0;34m\u001b[0m\u001b[0;34m\u001b[0m\u001b[0m\n\u001b[1;32m   1025\u001b[0m \u001b[0;34m\u001b[0m\u001b[0m\n\u001b[0;32m-> 1026\u001b[0;31m     \u001b[0;32mreturn\u001b[0m \u001b[0m_read\u001b[0m\u001b[0;34m(\u001b[0m\u001b[0mfilepath_or_buffer\u001b[0m\u001b[0;34m,\u001b[0m \u001b[0mkwds\u001b[0m\u001b[0;34m)\u001b[0m\u001b[0;34m\u001b[0m\u001b[0;34m\u001b[0m\u001b[0m\n\u001b[0m\u001b[1;32m   1027\u001b[0m \u001b[0;34m\u001b[0m\u001b[0m\n\u001b[1;32m   1028\u001b[0m \u001b[0;34m\u001b[0m\u001b[0m\n",
            "\u001b[0;32m/usr/local/lib/python3.11/dist-packages/pandas/io/parsers/readers.py\u001b[0m in \u001b[0;36m_read\u001b[0;34m(filepath_or_buffer, kwds)\u001b[0m\n\u001b[1;32m    618\u001b[0m \u001b[0;34m\u001b[0m\u001b[0m\n\u001b[1;32m    619\u001b[0m     \u001b[0;31m# Create the parser.\u001b[0m\u001b[0;34m\u001b[0m\u001b[0;34m\u001b[0m\u001b[0m\n\u001b[0;32m--> 620\u001b[0;31m     \u001b[0mparser\u001b[0m \u001b[0;34m=\u001b[0m \u001b[0mTextFileReader\u001b[0m\u001b[0;34m(\u001b[0m\u001b[0mfilepath_or_buffer\u001b[0m\u001b[0;34m,\u001b[0m \u001b[0;34m**\u001b[0m\u001b[0mkwds\u001b[0m\u001b[0;34m)\u001b[0m\u001b[0;34m\u001b[0m\u001b[0;34m\u001b[0m\u001b[0m\n\u001b[0m\u001b[1;32m    621\u001b[0m \u001b[0;34m\u001b[0m\u001b[0m\n\u001b[1;32m    622\u001b[0m     \u001b[0;32mif\u001b[0m \u001b[0mchunksize\u001b[0m \u001b[0;32mor\u001b[0m \u001b[0miterator\u001b[0m\u001b[0;34m:\u001b[0m\u001b[0;34m\u001b[0m\u001b[0;34m\u001b[0m\u001b[0m\n",
            "\u001b[0;32m/usr/local/lib/python3.11/dist-packages/pandas/io/parsers/readers.py\u001b[0m in \u001b[0;36m__init__\u001b[0;34m(self, f, engine, **kwds)\u001b[0m\n\u001b[1;32m   1618\u001b[0m \u001b[0;34m\u001b[0m\u001b[0m\n\u001b[1;32m   1619\u001b[0m         \u001b[0mself\u001b[0m\u001b[0;34m.\u001b[0m\u001b[0mhandles\u001b[0m\u001b[0;34m:\u001b[0m \u001b[0mIOHandles\u001b[0m \u001b[0;34m|\u001b[0m \u001b[0;32mNone\u001b[0m \u001b[0;34m=\u001b[0m \u001b[0;32mNone\u001b[0m\u001b[0;34m\u001b[0m\u001b[0;34m\u001b[0m\u001b[0m\n\u001b[0;32m-> 1620\u001b[0;31m         \u001b[0mself\u001b[0m\u001b[0;34m.\u001b[0m\u001b[0m_engine\u001b[0m \u001b[0;34m=\u001b[0m \u001b[0mself\u001b[0m\u001b[0;34m.\u001b[0m\u001b[0m_make_engine\u001b[0m\u001b[0;34m(\u001b[0m\u001b[0mf\u001b[0m\u001b[0;34m,\u001b[0m \u001b[0mself\u001b[0m\u001b[0;34m.\u001b[0m\u001b[0mengine\u001b[0m\u001b[0;34m)\u001b[0m\u001b[0;34m\u001b[0m\u001b[0;34m\u001b[0m\u001b[0m\n\u001b[0m\u001b[1;32m   1621\u001b[0m \u001b[0;34m\u001b[0m\u001b[0m\n\u001b[1;32m   1622\u001b[0m     \u001b[0;32mdef\u001b[0m \u001b[0mclose\u001b[0m\u001b[0;34m(\u001b[0m\u001b[0mself\u001b[0m\u001b[0;34m)\u001b[0m \u001b[0;34m->\u001b[0m \u001b[0;32mNone\u001b[0m\u001b[0;34m:\u001b[0m\u001b[0;34m\u001b[0m\u001b[0;34m\u001b[0m\u001b[0m\n",
            "\u001b[0;32m/usr/local/lib/python3.11/dist-packages/pandas/io/parsers/readers.py\u001b[0m in \u001b[0;36m_make_engine\u001b[0;34m(self, f, engine)\u001b[0m\n\u001b[1;32m   1878\u001b[0m                 \u001b[0;32mif\u001b[0m \u001b[0;34m\"b\"\u001b[0m \u001b[0;32mnot\u001b[0m \u001b[0;32min\u001b[0m \u001b[0mmode\u001b[0m\u001b[0;34m:\u001b[0m\u001b[0;34m\u001b[0m\u001b[0;34m\u001b[0m\u001b[0m\n\u001b[1;32m   1879\u001b[0m                     \u001b[0mmode\u001b[0m \u001b[0;34m+=\u001b[0m \u001b[0;34m\"b\"\u001b[0m\u001b[0;34m\u001b[0m\u001b[0;34m\u001b[0m\u001b[0m\n\u001b[0;32m-> 1880\u001b[0;31m             self.handles = get_handle(\n\u001b[0m\u001b[1;32m   1881\u001b[0m                 \u001b[0mf\u001b[0m\u001b[0;34m,\u001b[0m\u001b[0;34m\u001b[0m\u001b[0;34m\u001b[0m\u001b[0m\n\u001b[1;32m   1882\u001b[0m                 \u001b[0mmode\u001b[0m\u001b[0;34m,\u001b[0m\u001b[0;34m\u001b[0m\u001b[0;34m\u001b[0m\u001b[0m\n",
            "\u001b[0;32m/usr/local/lib/python3.11/dist-packages/pandas/io/common.py\u001b[0m in \u001b[0;36mget_handle\u001b[0;34m(path_or_buf, mode, encoding, compression, memory_map, is_text, errors, storage_options)\u001b[0m\n\u001b[1;32m    871\u001b[0m         \u001b[0;32mif\u001b[0m \u001b[0mioargs\u001b[0m\u001b[0;34m.\u001b[0m\u001b[0mencoding\u001b[0m \u001b[0;32mand\u001b[0m \u001b[0;34m\"b\"\u001b[0m \u001b[0;32mnot\u001b[0m \u001b[0;32min\u001b[0m \u001b[0mioargs\u001b[0m\u001b[0;34m.\u001b[0m\u001b[0mmode\u001b[0m\u001b[0;34m:\u001b[0m\u001b[0;34m\u001b[0m\u001b[0;34m\u001b[0m\u001b[0m\n\u001b[1;32m    872\u001b[0m             \u001b[0;31m# Encoding\u001b[0m\u001b[0;34m\u001b[0m\u001b[0;34m\u001b[0m\u001b[0m\n\u001b[0;32m--> 873\u001b[0;31m             handle = open(\n\u001b[0m\u001b[1;32m    874\u001b[0m                 \u001b[0mhandle\u001b[0m\u001b[0;34m,\u001b[0m\u001b[0;34m\u001b[0m\u001b[0;34m\u001b[0m\u001b[0m\n\u001b[1;32m    875\u001b[0m                 \u001b[0mioargs\u001b[0m\u001b[0;34m.\u001b[0m\u001b[0mmode\u001b[0m\u001b[0;34m,\u001b[0m\u001b[0;34m\u001b[0m\u001b[0;34m\u001b[0m\u001b[0m\n",
            "\u001b[0;31mFileNotFoundError\u001b[0m: [Errno 2] No such file or directory: 'your_file.csv'"
          ]
        }
      ]
    },
    {
      "cell_type": "markdown",
      "source": [
        "QUS 13:- A Create a 3D scatter plot using Plotly.\n"
      ],
      "metadata": {
        "id": "mx6SWUmsuHw-"
      }
    },
    {
      "cell_type": "code",
      "source": [
        "import plotly.express as px\n",
        "import pandas as pd\n",
        "\n",
        "# Sample 3D data\n",
        "data = {\n",
        "    'X': [1, 2, 3, 4, 5],\n",
        "    'Y': [10, 15, 13, 17, 20],\n",
        "    'Z': [5, 3, 6, 8, 4],\n",
        "    'Label': ['A', 'B', 'C', 'D', 'E']  # Optional for coloring/labeling\n",
        "}\n",
        "\n",
        "df = pd.DataFrame(data)\n",
        "\n",
        "# Create 3D scatter plot\n",
        "fig = px.scatter_3d(df, x='X', y='Y', z='Z', color='Label', size_max=10)\n",
        "\n",
        "# Show the plot\n",
        "fig.show()\n"
      ],
      "metadata": {
        "colab": {
          "base_uri": "https://localhost:8080/",
          "height": 542
        },
        "id": "uIIp6idBuOh4",
        "outputId": "b2b8acdd-c04e-47f1-c8cd-7fa2c6724207"
      },
      "execution_count": 16,
      "outputs": [
        {
          "output_type": "display_data",
          "data": {
            "text/html": [
              "<html>\n",
              "<head><meta charset=\"utf-8\" /></head>\n",
              "<body>\n",
              "    <div>            <script src=\"https://cdnjs.cloudflare.com/ajax/libs/mathjax/2.7.5/MathJax.js?config=TeX-AMS-MML_SVG\"></script><script type=\"text/javascript\">if (window.MathJax && window.MathJax.Hub && window.MathJax.Hub.Config) {window.MathJax.Hub.Config({SVG: {font: \"STIX-Web\"}});}</script>                <script type=\"text/javascript\">window.PlotlyConfig = {MathJaxConfig: 'local'};</script>\n",
              "        <script charset=\"utf-8\" src=\"https://cdn.plot.ly/plotly-2.35.2.min.js\"></script>                <div id=\"96faeea8-7f4e-4ba6-b96d-190181a0b6ab\" class=\"plotly-graph-div\" style=\"height:525px; width:100%;\"></div>            <script type=\"text/javascript\">                                    window.PLOTLYENV=window.PLOTLYENV || {};                                    if (document.getElementById(\"96faeea8-7f4e-4ba6-b96d-190181a0b6ab\")) {                    Plotly.newPlot(                        \"96faeea8-7f4e-4ba6-b96d-190181a0b6ab\",                        [{\"hovertemplate\":\"Label=A\\u003cbr\\u003eX=%{x}\\u003cbr\\u003eY=%{y}\\u003cbr\\u003eZ=%{z}\\u003cextra\\u003e\\u003c\\u002fextra\\u003e\",\"legendgroup\":\"A\",\"marker\":{\"color\":\"#636efa\",\"symbol\":\"circle\"},\"mode\":\"markers\",\"name\":\"A\",\"scene\":\"scene\",\"showlegend\":true,\"x\":[1],\"y\":[10],\"z\":[5],\"type\":\"scatter3d\"},{\"hovertemplate\":\"Label=B\\u003cbr\\u003eX=%{x}\\u003cbr\\u003eY=%{y}\\u003cbr\\u003eZ=%{z}\\u003cextra\\u003e\\u003c\\u002fextra\\u003e\",\"legendgroup\":\"B\",\"marker\":{\"color\":\"#EF553B\",\"symbol\":\"circle\"},\"mode\":\"markers\",\"name\":\"B\",\"scene\":\"scene\",\"showlegend\":true,\"x\":[2],\"y\":[15],\"z\":[3],\"type\":\"scatter3d\"},{\"hovertemplate\":\"Label=C\\u003cbr\\u003eX=%{x}\\u003cbr\\u003eY=%{y}\\u003cbr\\u003eZ=%{z}\\u003cextra\\u003e\\u003c\\u002fextra\\u003e\",\"legendgroup\":\"C\",\"marker\":{\"color\":\"#00cc96\",\"symbol\":\"circle\"},\"mode\":\"markers\",\"name\":\"C\",\"scene\":\"scene\",\"showlegend\":true,\"x\":[3],\"y\":[13],\"z\":[6],\"type\":\"scatter3d\"},{\"hovertemplate\":\"Label=D\\u003cbr\\u003eX=%{x}\\u003cbr\\u003eY=%{y}\\u003cbr\\u003eZ=%{z}\\u003cextra\\u003e\\u003c\\u002fextra\\u003e\",\"legendgroup\":\"D\",\"marker\":{\"color\":\"#ab63fa\",\"symbol\":\"circle\"},\"mode\":\"markers\",\"name\":\"D\",\"scene\":\"scene\",\"showlegend\":true,\"x\":[4],\"y\":[17],\"z\":[8],\"type\":\"scatter3d\"},{\"hovertemplate\":\"Label=E\\u003cbr\\u003eX=%{x}\\u003cbr\\u003eY=%{y}\\u003cbr\\u003eZ=%{z}\\u003cextra\\u003e\\u003c\\u002fextra\\u003e\",\"legendgroup\":\"E\",\"marker\":{\"color\":\"#FFA15A\",\"symbol\":\"circle\"},\"mode\":\"markers\",\"name\":\"E\",\"scene\":\"scene\",\"showlegend\":true,\"x\":[5],\"y\":[20],\"z\":[4],\"type\":\"scatter3d\"}],                        {\"template\":{\"data\":{\"histogram2dcontour\":[{\"type\":\"histogram2dcontour\",\"colorbar\":{\"outlinewidth\":0,\"ticks\":\"\"},\"colorscale\":[[0.0,\"#0d0887\"],[0.1111111111111111,\"#46039f\"],[0.2222222222222222,\"#7201a8\"],[0.3333333333333333,\"#9c179e\"],[0.4444444444444444,\"#bd3786\"],[0.5555555555555556,\"#d8576b\"],[0.6666666666666666,\"#ed7953\"],[0.7777777777777778,\"#fb9f3a\"],[0.8888888888888888,\"#fdca26\"],[1.0,\"#f0f921\"]]}],\"choropleth\":[{\"type\":\"choropleth\",\"colorbar\":{\"outlinewidth\":0,\"ticks\":\"\"}}],\"histogram2d\":[{\"type\":\"histogram2d\",\"colorbar\":{\"outlinewidth\":0,\"ticks\":\"\"},\"colorscale\":[[0.0,\"#0d0887\"],[0.1111111111111111,\"#46039f\"],[0.2222222222222222,\"#7201a8\"],[0.3333333333333333,\"#9c179e\"],[0.4444444444444444,\"#bd3786\"],[0.5555555555555556,\"#d8576b\"],[0.6666666666666666,\"#ed7953\"],[0.7777777777777778,\"#fb9f3a\"],[0.8888888888888888,\"#fdca26\"],[1.0,\"#f0f921\"]]}],\"heatmap\":[{\"type\":\"heatmap\",\"colorbar\":{\"outlinewidth\":0,\"ticks\":\"\"},\"colorscale\":[[0.0,\"#0d0887\"],[0.1111111111111111,\"#46039f\"],[0.2222222222222222,\"#7201a8\"],[0.3333333333333333,\"#9c179e\"],[0.4444444444444444,\"#bd3786\"],[0.5555555555555556,\"#d8576b\"],[0.6666666666666666,\"#ed7953\"],[0.7777777777777778,\"#fb9f3a\"],[0.8888888888888888,\"#fdca26\"],[1.0,\"#f0f921\"]]}],\"heatmapgl\":[{\"type\":\"heatmapgl\",\"colorbar\":{\"outlinewidth\":0,\"ticks\":\"\"},\"colorscale\":[[0.0,\"#0d0887\"],[0.1111111111111111,\"#46039f\"],[0.2222222222222222,\"#7201a8\"],[0.3333333333333333,\"#9c179e\"],[0.4444444444444444,\"#bd3786\"],[0.5555555555555556,\"#d8576b\"],[0.6666666666666666,\"#ed7953\"],[0.7777777777777778,\"#fb9f3a\"],[0.8888888888888888,\"#fdca26\"],[1.0,\"#f0f921\"]]}],\"contourcarpet\":[{\"type\":\"contourcarpet\",\"colorbar\":{\"outlinewidth\":0,\"ticks\":\"\"}}],\"contour\":[{\"type\":\"contour\",\"colorbar\":{\"outlinewidth\":0,\"ticks\":\"\"},\"colorscale\":[[0.0,\"#0d0887\"],[0.1111111111111111,\"#46039f\"],[0.2222222222222222,\"#7201a8\"],[0.3333333333333333,\"#9c179e\"],[0.4444444444444444,\"#bd3786\"],[0.5555555555555556,\"#d8576b\"],[0.6666666666666666,\"#ed7953\"],[0.7777777777777778,\"#fb9f3a\"],[0.8888888888888888,\"#fdca26\"],[1.0,\"#f0f921\"]]}],\"surface\":[{\"type\":\"surface\",\"colorbar\":{\"outlinewidth\":0,\"ticks\":\"\"},\"colorscale\":[[0.0,\"#0d0887\"],[0.1111111111111111,\"#46039f\"],[0.2222222222222222,\"#7201a8\"],[0.3333333333333333,\"#9c179e\"],[0.4444444444444444,\"#bd3786\"],[0.5555555555555556,\"#d8576b\"],[0.6666666666666666,\"#ed7953\"],[0.7777777777777778,\"#fb9f3a\"],[0.8888888888888888,\"#fdca26\"],[1.0,\"#f0f921\"]]}],\"mesh3d\":[{\"type\":\"mesh3d\",\"colorbar\":{\"outlinewidth\":0,\"ticks\":\"\"}}],\"scatter\":[{\"fillpattern\":{\"fillmode\":\"overlay\",\"size\":10,\"solidity\":0.2},\"type\":\"scatter\"}],\"parcoords\":[{\"type\":\"parcoords\",\"line\":{\"colorbar\":{\"outlinewidth\":0,\"ticks\":\"\"}}}],\"scatterpolargl\":[{\"type\":\"scatterpolargl\",\"marker\":{\"colorbar\":{\"outlinewidth\":0,\"ticks\":\"\"}}}],\"bar\":[{\"error_x\":{\"color\":\"#2a3f5f\"},\"error_y\":{\"color\":\"#2a3f5f\"},\"marker\":{\"line\":{\"color\":\"#E5ECF6\",\"width\":0.5},\"pattern\":{\"fillmode\":\"overlay\",\"size\":10,\"solidity\":0.2}},\"type\":\"bar\"}],\"scattergeo\":[{\"type\":\"scattergeo\",\"marker\":{\"colorbar\":{\"outlinewidth\":0,\"ticks\":\"\"}}}],\"scatterpolar\":[{\"type\":\"scatterpolar\",\"marker\":{\"colorbar\":{\"outlinewidth\":0,\"ticks\":\"\"}}}],\"histogram\":[{\"marker\":{\"pattern\":{\"fillmode\":\"overlay\",\"size\":10,\"solidity\":0.2}},\"type\":\"histogram\"}],\"scattergl\":[{\"type\":\"scattergl\",\"marker\":{\"colorbar\":{\"outlinewidth\":0,\"ticks\":\"\"}}}],\"scatter3d\":[{\"type\":\"scatter3d\",\"line\":{\"colorbar\":{\"outlinewidth\":0,\"ticks\":\"\"}},\"marker\":{\"colorbar\":{\"outlinewidth\":0,\"ticks\":\"\"}}}],\"scattermapbox\":[{\"type\":\"scattermapbox\",\"marker\":{\"colorbar\":{\"outlinewidth\":0,\"ticks\":\"\"}}}],\"scatterternary\":[{\"type\":\"scatterternary\",\"marker\":{\"colorbar\":{\"outlinewidth\":0,\"ticks\":\"\"}}}],\"scattercarpet\":[{\"type\":\"scattercarpet\",\"marker\":{\"colorbar\":{\"outlinewidth\":0,\"ticks\":\"\"}}}],\"carpet\":[{\"aaxis\":{\"endlinecolor\":\"#2a3f5f\",\"gridcolor\":\"white\",\"linecolor\":\"white\",\"minorgridcolor\":\"white\",\"startlinecolor\":\"#2a3f5f\"},\"baxis\":{\"endlinecolor\":\"#2a3f5f\",\"gridcolor\":\"white\",\"linecolor\":\"white\",\"minorgridcolor\":\"white\",\"startlinecolor\":\"#2a3f5f\"},\"type\":\"carpet\"}],\"table\":[{\"cells\":{\"fill\":{\"color\":\"#EBF0F8\"},\"line\":{\"color\":\"white\"}},\"header\":{\"fill\":{\"color\":\"#C8D4E3\"},\"line\":{\"color\":\"white\"}},\"type\":\"table\"}],\"barpolar\":[{\"marker\":{\"line\":{\"color\":\"#E5ECF6\",\"width\":0.5},\"pattern\":{\"fillmode\":\"overlay\",\"size\":10,\"solidity\":0.2}},\"type\":\"barpolar\"}],\"pie\":[{\"automargin\":true,\"type\":\"pie\"}]},\"layout\":{\"autotypenumbers\":\"strict\",\"colorway\":[\"#636efa\",\"#EF553B\",\"#00cc96\",\"#ab63fa\",\"#FFA15A\",\"#19d3f3\",\"#FF6692\",\"#B6E880\",\"#FF97FF\",\"#FECB52\"],\"font\":{\"color\":\"#2a3f5f\"},\"hovermode\":\"closest\",\"hoverlabel\":{\"align\":\"left\"},\"paper_bgcolor\":\"white\",\"plot_bgcolor\":\"#E5ECF6\",\"polar\":{\"bgcolor\":\"#E5ECF6\",\"angularaxis\":{\"gridcolor\":\"white\",\"linecolor\":\"white\",\"ticks\":\"\"},\"radialaxis\":{\"gridcolor\":\"white\",\"linecolor\":\"white\",\"ticks\":\"\"}},\"ternary\":{\"bgcolor\":\"#E5ECF6\",\"aaxis\":{\"gridcolor\":\"white\",\"linecolor\":\"white\",\"ticks\":\"\"},\"baxis\":{\"gridcolor\":\"white\",\"linecolor\":\"white\",\"ticks\":\"\"},\"caxis\":{\"gridcolor\":\"white\",\"linecolor\":\"white\",\"ticks\":\"\"}},\"coloraxis\":{\"colorbar\":{\"outlinewidth\":0,\"ticks\":\"\"}},\"colorscale\":{\"sequential\":[[0.0,\"#0d0887\"],[0.1111111111111111,\"#46039f\"],[0.2222222222222222,\"#7201a8\"],[0.3333333333333333,\"#9c179e\"],[0.4444444444444444,\"#bd3786\"],[0.5555555555555556,\"#d8576b\"],[0.6666666666666666,\"#ed7953\"],[0.7777777777777778,\"#fb9f3a\"],[0.8888888888888888,\"#fdca26\"],[1.0,\"#f0f921\"]],\"sequentialminus\":[[0.0,\"#0d0887\"],[0.1111111111111111,\"#46039f\"],[0.2222222222222222,\"#7201a8\"],[0.3333333333333333,\"#9c179e\"],[0.4444444444444444,\"#bd3786\"],[0.5555555555555556,\"#d8576b\"],[0.6666666666666666,\"#ed7953\"],[0.7777777777777778,\"#fb9f3a\"],[0.8888888888888888,\"#fdca26\"],[1.0,\"#f0f921\"]],\"diverging\":[[0,\"#8e0152\"],[0.1,\"#c51b7d\"],[0.2,\"#de77ae\"],[0.3,\"#f1b6da\"],[0.4,\"#fde0ef\"],[0.5,\"#f7f7f7\"],[0.6,\"#e6f5d0\"],[0.7,\"#b8e186\"],[0.8,\"#7fbc41\"],[0.9,\"#4d9221\"],[1,\"#276419\"]]},\"xaxis\":{\"gridcolor\":\"white\",\"linecolor\":\"white\",\"ticks\":\"\",\"title\":{\"standoff\":15},\"zerolinecolor\":\"white\",\"automargin\":true,\"zerolinewidth\":2},\"yaxis\":{\"gridcolor\":\"white\",\"linecolor\":\"white\",\"ticks\":\"\",\"title\":{\"standoff\":15},\"zerolinecolor\":\"white\",\"automargin\":true,\"zerolinewidth\":2},\"scene\":{\"xaxis\":{\"backgroundcolor\":\"#E5ECF6\",\"gridcolor\":\"white\",\"linecolor\":\"white\",\"showbackground\":true,\"ticks\":\"\",\"zerolinecolor\":\"white\",\"gridwidth\":2},\"yaxis\":{\"backgroundcolor\":\"#E5ECF6\",\"gridcolor\":\"white\",\"linecolor\":\"white\",\"showbackground\":true,\"ticks\":\"\",\"zerolinecolor\":\"white\",\"gridwidth\":2},\"zaxis\":{\"backgroundcolor\":\"#E5ECF6\",\"gridcolor\":\"white\",\"linecolor\":\"white\",\"showbackground\":true,\"ticks\":\"\",\"zerolinecolor\":\"white\",\"gridwidth\":2}},\"shapedefaults\":{\"line\":{\"color\":\"#2a3f5f\"}},\"annotationdefaults\":{\"arrowcolor\":\"#2a3f5f\",\"arrowhead\":0,\"arrowwidth\":1},\"geo\":{\"bgcolor\":\"white\",\"landcolor\":\"#E5ECF6\",\"subunitcolor\":\"white\",\"showland\":true,\"showlakes\":true,\"lakecolor\":\"white\"},\"title\":{\"x\":0.05},\"mapbox\":{\"style\":\"light\"}}},\"scene\":{\"domain\":{\"x\":[0.0,1.0],\"y\":[0.0,1.0]},\"xaxis\":{\"title\":{\"text\":\"X\"}},\"yaxis\":{\"title\":{\"text\":\"Y\"}},\"zaxis\":{\"title\":{\"text\":\"Z\"}}},\"legend\":{\"title\":{\"text\":\"Label\"},\"tracegroupgap\":0},\"margin\":{\"t\":60}},                        {\"responsive\": true}                    ).then(function(){\n",
              "                            \n",
              "var gd = document.getElementById('96faeea8-7f4e-4ba6-b96d-190181a0b6ab');\n",
              "var x = new MutationObserver(function (mutations, observer) {{\n",
              "        var display = window.getComputedStyle(gd).display;\n",
              "        if (!display || display === 'none') {{\n",
              "            console.log([gd, 'removed!']);\n",
              "            Plotly.purge(gd);\n",
              "            observer.disconnect();\n",
              "        }}\n",
              "}});\n",
              "\n",
              "// Listen for the removal of the full notebook cells\n",
              "var notebookContainer = gd.closest('#notebook-container');\n",
              "if (notebookContainer) {{\n",
              "    x.observe(notebookContainer, {childList: true});\n",
              "}}\n",
              "\n",
              "// Listen for the clearing of the current output cell\n",
              "var outputEl = gd.closest('.output');\n",
              "if (outputEl) {{\n",
              "    x.observe(outputEl, {childList: true});\n",
              "}}\n",
              "\n",
              "                        })                };                            </script>        </div>\n",
              "</body>\n",
              "</html>"
            ]
          },
          "metadata": {}
        }
      ]
    }
  ]
}